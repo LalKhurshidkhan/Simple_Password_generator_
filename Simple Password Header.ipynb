{
 "cells": [
  {
   "cell_type": "code",
   "execution_count": 1,
   "id": "4d095a8f",
   "metadata": {},
   "outputs": [
    {
     "name": "stdout",
     "output_type": "stream",
     "text": [
      "Enter the length of the password: 10\n",
      "TFLVNIIKHE\n"
     ]
    }
   ],
   "source": [
    "import random \n",
    "chars = \"ABCDEFGHIJKLMNOPQRSTUVWXYZ\"\n",
    "length = int(input(\"Enter the length of the password: \"))\n",
    "password = \"\"\n",
    "for a in range(length):\n",
    "    password +=random.choice(chars)\n",
    "print(password)"
   ]
  },
  {
   "cell_type": "code",
   "execution_count": null,
   "id": "1a1e24e5",
   "metadata": {},
   "outputs": [],
   "source": []
  }
 ],
 "metadata": {
  "kernelspec": {
   "display_name": "Python 3 (ipykernel)",
   "language": "python",
   "name": "python3"
  },
  "language_info": {
   "codemirror_mode": {
    "name": "ipython",
    "version": 3
   },
   "file_extension": ".py",
   "mimetype": "text/x-python",
   "name": "python",
   "nbconvert_exporter": "python",
   "pygments_lexer": "ipython3",
   "version": "3.11.5"
  }
 },
 "nbformat": 4,
 "nbformat_minor": 5
}
